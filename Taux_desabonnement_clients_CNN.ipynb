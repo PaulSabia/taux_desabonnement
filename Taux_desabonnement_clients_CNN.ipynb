{
 "cells": [
  {
   "cell_type": "code",
   "execution_count": 364,
   "metadata": {},
   "outputs": [],
   "source": [
    "import pandas as pd\n",
    "import numpy as np\n",
    "import matplotlib.pyplot as plt\n",
    "import tensorflow as tf\n",
    "from tensorflow import keras\n",
    "from tensorflow.keras import layers, initializers"
   ]
  },
  {
   "cell_type": "markdown",
   "metadata": {},
   "source": [
    "## Import du Dataset"
   ]
  },
  {
   "cell_type": "code",
   "execution_count": 365,
   "metadata": {},
   "outputs": [],
   "source": [
    "data = pd.read_csv('data.csv')"
   ]
  },
  {
   "cell_type": "code",
   "execution_count": 366,
   "metadata": {},
   "outputs": [
    {
     "data": {
      "text/html": [
       "<div>\n",
       "<style scoped>\n",
       "    .dataframe tbody tr th:only-of-type {\n",
       "        vertical-align: middle;\n",
       "    }\n",
       "\n",
       "    .dataframe tbody tr th {\n",
       "        vertical-align: top;\n",
       "    }\n",
       "\n",
       "    .dataframe thead th {\n",
       "        text-align: right;\n",
       "    }\n",
       "</style>\n",
       "<table border=\"1\" class=\"dataframe\">\n",
       "  <thead>\n",
       "    <tr style=\"text-align: right;\">\n",
       "      <th></th>\n",
       "      <th>num_ligne</th>\n",
       "      <th>ID_Client</th>\n",
       "      <th>Nom</th>\n",
       "      <th>Score_Credit</th>\n",
       "      <th>Pays</th>\n",
       "      <th>Sex</th>\n",
       "      <th>Age</th>\n",
       "      <th>Tenure</th>\n",
       "      <th>Balance</th>\n",
       "      <th>Num_Produit</th>\n",
       "      <th>il_a_CrCard</th>\n",
       "      <th>Membre_actif</th>\n",
       "      <th>Salaire_estime</th>\n",
       "      <th>Exited</th>\n",
       "    </tr>\n",
       "  </thead>\n",
       "  <tbody>\n",
       "    <tr>\n",
       "      <th>0</th>\n",
       "      <td>1</td>\n",
       "      <td>15634602</td>\n",
       "      <td>Hargrave</td>\n",
       "      <td>619</td>\n",
       "      <td>France</td>\n",
       "      <td>Female</td>\n",
       "      <td>42</td>\n",
       "      <td>2</td>\n",
       "      <td>0.00</td>\n",
       "      <td>1</td>\n",
       "      <td>1</td>\n",
       "      <td>1</td>\n",
       "      <td>101348.88</td>\n",
       "      <td>1</td>\n",
       "    </tr>\n",
       "    <tr>\n",
       "      <th>1</th>\n",
       "      <td>2</td>\n",
       "      <td>15647311</td>\n",
       "      <td>Hill</td>\n",
       "      <td>608</td>\n",
       "      <td>Spain</td>\n",
       "      <td>Female</td>\n",
       "      <td>41</td>\n",
       "      <td>1</td>\n",
       "      <td>83807.86</td>\n",
       "      <td>1</td>\n",
       "      <td>0</td>\n",
       "      <td>1</td>\n",
       "      <td>112542.58</td>\n",
       "      <td>0</td>\n",
       "    </tr>\n",
       "    <tr>\n",
       "      <th>2</th>\n",
       "      <td>3</td>\n",
       "      <td>15619304</td>\n",
       "      <td>Onio</td>\n",
       "      <td>502</td>\n",
       "      <td>France</td>\n",
       "      <td>Female</td>\n",
       "      <td>42</td>\n",
       "      <td>8</td>\n",
       "      <td>159660.80</td>\n",
       "      <td>3</td>\n",
       "      <td>1</td>\n",
       "      <td>0</td>\n",
       "      <td>113931.57</td>\n",
       "      <td>1</td>\n",
       "    </tr>\n",
       "    <tr>\n",
       "      <th>3</th>\n",
       "      <td>4</td>\n",
       "      <td>15701354</td>\n",
       "      <td>Boni</td>\n",
       "      <td>699</td>\n",
       "      <td>France</td>\n",
       "      <td>Female</td>\n",
       "      <td>39</td>\n",
       "      <td>1</td>\n",
       "      <td>0.00</td>\n",
       "      <td>2</td>\n",
       "      <td>0</td>\n",
       "      <td>0</td>\n",
       "      <td>93826.63</td>\n",
       "      <td>0</td>\n",
       "    </tr>\n",
       "    <tr>\n",
       "      <th>4</th>\n",
       "      <td>5</td>\n",
       "      <td>15737888</td>\n",
       "      <td>Mitchell</td>\n",
       "      <td>850</td>\n",
       "      <td>Spain</td>\n",
       "      <td>Female</td>\n",
       "      <td>43</td>\n",
       "      <td>2</td>\n",
       "      <td>125510.82</td>\n",
       "      <td>1</td>\n",
       "      <td>1</td>\n",
       "      <td>1</td>\n",
       "      <td>79084.10</td>\n",
       "      <td>0</td>\n",
       "    </tr>\n",
       "  </tbody>\n",
       "</table>\n",
       "</div>"
      ],
      "text/plain": [
       "   num_ligne  ID_Client       Nom  Score_Credit    Pays     Sex  Age  Tenure  \\\n",
       "0          1   15634602  Hargrave           619  France  Female   42       2   \n",
       "1          2   15647311      Hill           608   Spain  Female   41       1   \n",
       "2          3   15619304      Onio           502  France  Female   42       8   \n",
       "3          4   15701354      Boni           699  France  Female   39       1   \n",
       "4          5   15737888  Mitchell           850   Spain  Female   43       2   \n",
       "\n",
       "     Balance  Num_Produit  il_a_CrCard  Membre_actif  Salaire_estime  Exited  \n",
       "0       0.00            1            1             1       101348.88       1  \n",
       "1   83807.86            1            0             1       112542.58       0  \n",
       "2  159660.80            3            1             0       113931.57       1  \n",
       "3       0.00            2            0             0        93826.63       0  \n",
       "4  125510.82            1            1             1        79084.10       0  "
      ]
     },
     "execution_count": 366,
     "metadata": {},
     "output_type": "execute_result"
    }
   ],
   "source": [
    "data.head()"
   ]
  },
  {
   "cell_type": "code",
   "execution_count": 367,
   "metadata": {},
   "outputs": [
    {
     "data": {
      "text/plain": [
       "dtype('int64')"
      ]
     },
     "execution_count": 367,
     "metadata": {},
     "output_type": "execute_result"
    }
   ],
   "source": [
    "data.Exited.dtype"
   ]
  },
  {
   "cell_type": "markdown",
   "metadata": {},
   "source": [
    "## Encodage de la variable Sex"
   ]
  },
  {
   "cell_type": "code",
   "execution_count": 368,
   "metadata": {},
   "outputs": [],
   "source": [
    "from sklearn.preprocessing import LabelEncoder\n",
    "\n",
    "encoder = LabelEncoder()\n",
    "\n",
    "data.Sex = encoder.fit_transform(data.Sex)"
   ]
  },
  {
   "cell_type": "markdown",
   "metadata": {},
   "source": [
    "## Encodage de la variable Pays"
   ]
  },
  {
   "cell_type": "code",
   "execution_count": 369,
   "metadata": {},
   "outputs": [
    {
     "name": "stdout",
     "output_type": "stream",
     "text": [
      "(10000, 1)\n"
     ]
    }
   ],
   "source": [
    "from sklearn.preprocessing import LabelEncoder, OneHotEncoder\n",
    "\n",
    "pays = np.array(data.Pays)\n",
    "pays = pays.reshape(pays.shape[0], 1)\n",
    "print(pays.shape)\n",
    "\n",
    "enc = OneHotEncoder(handle_unknown='ignore', sparse=False)\n",
    "pays_enc = enc.fit_transform(pays)\n",
    "\n",
    "col = np.unique(data.Pays)\n",
    "pays_enc = pd.DataFrame(data=pays_enc, columns=col, dtype=np.int64)"
   ]
  },
  {
   "cell_type": "markdown",
   "metadata": {},
   "source": [
    "## Visualisation des corrélations"
   ]
  },
  {
   "cell_type": "code",
   "execution_count": 370,
   "metadata": {},
   "outputs": [
    {
     "data": {
      "image/png": "[encoded data removed]",
      "text/plain": [
       "<Figure size 720x432 with 2 Axes>"
      ]
     },
     "metadata": {
      "needs_background": "light"
     },
     "output_type": "display_data"
    }
   ],
   "source": [
    "import seaborn as sns\n",
    "plt.figure(figsize=(10,6))\n",
    "ax = sns.heatmap(data.corr(), annot=True)"
   ]
  },
  {
   "cell_type": "markdown",
   "metadata": {},
   "source": [
    "## Selection des variables"
   ]
  },
  {
   "cell_type": "code",
   "execution_count": 371,
   "metadata": {},
   "outputs": [
    {
     "data": {
      "text/html": [
       "<div>\n",
       "<style scoped>\n",
       "    .dataframe tbody tr th:only-of-type {\n",
       "        vertical-align: middle;\n",
       "    }\n",
       "\n",
       "    .dataframe tbody tr th {\n",
       "        vertical-align: top;\n",
       "    }\n",
       "\n",
       "    .dataframe thead th {\n",
       "        text-align: right;\n",
       "    }\n",
       "</style>\n",
       "<table border=\"1\" class=\"dataframe\">\n",
       "  <thead>\n",
       "    <tr style=\"text-align: right;\">\n",
       "      <th></th>\n",
       "      <th>Score_Credit</th>\n",
       "      <th>Sex</th>\n",
       "      <th>Age</th>\n",
       "      <th>Tenure</th>\n",
       "      <th>Balance</th>\n",
       "      <th>Num_Produit</th>\n",
       "      <th>il_a_CrCard</th>\n",
       "      <th>Membre_actif</th>\n",
       "      <th>Salaire_estime</th>\n",
       "      <th>France</th>\n",
       "      <th>Germany</th>\n",
       "      <th>Spain</th>\n",
       "    </tr>\n",
       "  </thead>\n",
       "  <tbody>\n",
       "    <tr>\n",
       "      <th>0</th>\n",
       "      <td>619</td>\n",
       "      <td>0</td>\n",
       "      <td>42</td>\n",
       "      <td>2</td>\n",
       "      <td>0.00</td>\n",
       "      <td>1</td>\n",
       "      <td>1</td>\n",
       "      <td>1</td>\n",
       "      <td>101348.88</td>\n",
       "      <td>1</td>\n",
       "      <td>0</td>\n",
       "      <td>0</td>\n",
       "    </tr>\n",
       "    <tr>\n",
       "      <th>1</th>\n",
       "      <td>608</td>\n",
       "      <td>0</td>\n",
       "      <td>41</td>\n",
       "      <td>1</td>\n",
       "      <td>83807.86</td>\n",
       "      <td>1</td>\n",
       "      <td>0</td>\n",
       "      <td>1</td>\n",
       "      <td>112542.58</td>\n",
       "      <td>0</td>\n",
       "      <td>0</td>\n",
       "      <td>1</td>\n",
       "    </tr>\n",
       "    <tr>\n",
       "      <th>2</th>\n",
       "      <td>502</td>\n",
       "      <td>0</td>\n",
       "      <td>42</td>\n",
       "      <td>8</td>\n",
       "      <td>159660.80</td>\n",
       "      <td>3</td>\n",
       "      <td>1</td>\n",
       "      <td>0</td>\n",
       "      <td>113931.57</td>\n",
       "      <td>1</td>\n",
       "      <td>0</td>\n",
       "      <td>0</td>\n",
       "    </tr>\n",
       "    <tr>\n",
       "      <th>3</th>\n",
       "      <td>699</td>\n",
       "      <td>0</td>\n",
       "      <td>39</td>\n",
       "      <td>1</td>\n",
       "      <td>0.00</td>\n",
       "      <td>2</td>\n",
       "      <td>0</td>\n",
       "      <td>0</td>\n",
       "      <td>93826.63</td>\n",
       "      <td>1</td>\n",
       "      <td>0</td>\n",
       "      <td>0</td>\n",
       "    </tr>\n",
       "    <tr>\n",
       "      <th>4</th>\n",
       "      <td>850</td>\n",
       "      <td>0</td>\n",
       "      <td>43</td>\n",
       "      <td>2</td>\n",
       "      <td>125510.82</td>\n",
       "      <td>1</td>\n",
       "      <td>1</td>\n",
       "      <td>1</td>\n",
       "      <td>79084.10</td>\n",
       "      <td>0</td>\n",
       "      <td>0</td>\n",
       "      <td>1</td>\n",
       "    </tr>\n",
       "  </tbody>\n",
       "</table>\n",
       "</div>"
      ],
      "text/plain": [
       "   Score_Credit  Sex  Age  Tenure    Balance  Num_Produit  il_a_CrCard  \\\n",
       "0           619    0   42       2       0.00            1            1   \n",
       "1           608    0   41       1   83807.86            1            0   \n",
       "2           502    0   42       8  159660.80            3            1   \n",
       "3           699    0   39       1       0.00            2            0   \n",
       "4           850    0   43       2  125510.82            1            1   \n",
       "\n",
       "   Membre_actif  Salaire_estime  France  Germany  Spain  \n",
       "0             1       101348.88       1        0      0  \n",
       "1             1       112542.58       0        0      1  \n",
       "2             0       113931.57       1        0      0  \n",
       "3             0        93826.63       1        0      0  \n",
       "4             1        79084.10       0        0      1  "
      ]
     },
     "execution_count": 371,
     "metadata": {},
     "output_type": "execute_result"
    }
   ],
   "source": [
    "X = data.iloc[:, :13].copy()\n",
    "y = data.Exited.copy()\n",
    "\n",
    "\n",
    "X = X.drop(['num_ligne', 'ID_Client', 'Nom', 'Pays'], axis=1)\n",
    "X = pd.concat([X, pays_enc], axis=1)\n",
    "col = X.columns\n",
    "X.head()"
   ]
  },
  {
   "cell_type": "markdown",
   "metadata": {},
   "source": [
    "## Standardisation des variables"
   ]
  },
  {
   "cell_type": "code",
   "execution_count": 372,
   "metadata": {},
   "outputs": [],
   "source": [
    "from sklearn.preprocessing import StandardScaler\n",
    "\n",
    "scaler = StandardScaler()\n",
    "X = scaler.fit_transform(X)"
   ]
  },
  {
   "cell_type": "markdown",
   "metadata": {},
   "source": [
    "## Séparation jeu de données entrainement / test"
   ]
  },
  {
   "cell_type": "code",
   "execution_count": 373,
   "metadata": {},
   "outputs": [],
   "source": [
    "from sklearn.model_selection import train_test_split\n",
    "\n",
    "X_train, X_test, y_train, y_test = train_test_split(X, y, test_size = 2000)"
   ]
  },
  {
   "cell_type": "code",
   "execution_count": 374,
   "metadata": {},
   "outputs": [
    {
     "data": {
      "text/html": [
       "<div>\n",
       "<style scoped>\n",
       "    .dataframe tbody tr th:only-of-type {\n",
       "        vertical-align: middle;\n",
       "    }\n",
       "\n",
       "    .dataframe tbody tr th {\n",
       "        vertical-align: top;\n",
       "    }\n",
       "\n",
       "    .dataframe thead tr th {\n",
       "        text-align: left;\n",
       "    }\n",
       "</style>\n",
       "<table border=\"1\" class=\"dataframe\">\n",
       "  <thead>\n",
       "    <tr>\n",
       "      <th></th>\n",
       "      <th>Score_Credit</th>\n",
       "      <th>Sex</th>\n",
       "      <th>Age</th>\n",
       "      <th>Tenure</th>\n",
       "      <th>Balance</th>\n",
       "      <th>Num_Produit</th>\n",
       "      <th>il_a_CrCard</th>\n",
       "      <th>Membre_actif</th>\n",
       "      <th>Salaire_estime</th>\n",
       "      <th>France</th>\n",
       "      <th>Germany</th>\n",
       "      <th>Spain</th>\n",
       "    </tr>\n",
       "  </thead>\n",
       "  <tbody>\n",
       "    <tr>\n",
       "      <th>0</th>\n",
       "      <td>-1.257431</td>\n",
       "      <td>-1.095988</td>\n",
       "      <td>-0.755372</td>\n",
       "      <td>-0.004426</td>\n",
       "      <td>-1.225848</td>\n",
       "      <td>0.807737</td>\n",
       "      <td>0.646092</td>\n",
       "      <td>-1.030670</td>\n",
       "      <td>-1.274144</td>\n",
       "      <td>0.997204</td>\n",
       "      <td>-0.578736</td>\n",
       "      <td>-0.573809</td>\n",
       "    </tr>\n",
       "    <tr>\n",
       "      <th>1</th>\n",
       "      <td>-1.247084</td>\n",
       "      <td>-1.095988</td>\n",
       "      <td>-1.613554</td>\n",
       "      <td>0.687130</td>\n",
       "      <td>-1.225848</td>\n",
       "      <td>0.807737</td>\n",
       "      <td>0.646092</td>\n",
       "      <td>-1.030670</td>\n",
       "      <td>0.070951</td>\n",
       "      <td>-1.002804</td>\n",
       "      <td>-0.578736</td>\n",
       "      <td>1.742740</td>\n",
       "    </tr>\n",
       "    <tr>\n",
       "      <th>2</th>\n",
       "      <td>1.887989</td>\n",
       "      <td>0.912419</td>\n",
       "      <td>-0.946079</td>\n",
       "      <td>-1.387538</td>\n",
       "      <td>0.320163</td>\n",
       "      <td>0.807737</td>\n",
       "      <td>-1.547768</td>\n",
       "      <td>0.970243</td>\n",
       "      <td>-0.888649</td>\n",
       "      <td>-1.002804</td>\n",
       "      <td>1.727904</td>\n",
       "      <td>-0.573809</td>\n",
       "    </tr>\n",
       "    <tr>\n",
       "      <th>3</th>\n",
       "      <td>0.160077</td>\n",
       "      <td>-1.095988</td>\n",
       "      <td>-0.660018</td>\n",
       "      <td>1.724464</td>\n",
       "      <td>0.577788</td>\n",
       "      <td>0.807737</td>\n",
       "      <td>0.646092</td>\n",
       "      <td>0.970243</td>\n",
       "      <td>-1.143148</td>\n",
       "      <td>0.997204</td>\n",
       "      <td>-0.578736</td>\n",
       "      <td>-0.573809</td>\n",
       "    </tr>\n",
       "    <tr>\n",
       "      <th>4</th>\n",
       "      <td>-0.046858</td>\n",
       "      <td>-1.095988</td>\n",
       "      <td>-0.850726</td>\n",
       "      <td>1.724464</td>\n",
       "      <td>0.385657</td>\n",
       "      <td>0.807737</td>\n",
       "      <td>-1.547768</td>\n",
       "      <td>-1.030670</td>\n",
       "      <td>0.641542</td>\n",
       "      <td>-1.002804</td>\n",
       "      <td>1.727904</td>\n",
       "      <td>-0.573809</td>\n",
       "    </tr>\n",
       "  </tbody>\n",
       "</table>\n",
       "</div>"
      ],
      "text/plain": [
       "  Score_Credit       Sex       Age    Tenure   Balance Num_Produit  \\\n",
       "0    -1.257431 -1.095988 -0.755372 -0.004426 -1.225848    0.807737   \n",
       "1    -1.247084 -1.095988 -1.613554  0.687130 -1.225848    0.807737   \n",
       "2     1.887989  0.912419 -0.946079 -1.387538  0.320163    0.807737   \n",
       "3     0.160077 -1.095988 -0.660018  1.724464  0.577788    0.807737   \n",
       "4    -0.046858 -1.095988 -0.850726  1.724464  0.385657    0.807737   \n",
       "\n",
       "  il_a_CrCard Membre_actif Salaire_estime    France   Germany     Spain  \n",
       "0    0.646092    -1.030670      -1.274144  0.997204 -0.578736 -0.573809  \n",
       "1    0.646092    -1.030670       0.070951 -1.002804 -0.578736  1.742740  \n",
       "2   -1.547768     0.970243      -0.888649 -1.002804  1.727904 -0.573809  \n",
       "3    0.646092     0.970243      -1.143148  0.997204 -0.578736 -0.573809  \n",
       "4   -1.547768    -1.030670       0.641542 -1.002804  1.727904 -0.573809  "
      ]
     },
     "execution_count": 374,
     "metadata": {},
     "output_type": "execute_result"
    }
   ],
   "source": [
    "donnees_train = X_train\n",
    "donnees_test = X_test\n",
    "index_train = [i for i in range(len(donnees_train))]\n",
    "index_test = [i for i in range(len(donnees_test))]\n",
    "\n",
    "X_train = pd.DataFrame(data=donnees_train,index=index_train, columns=[col])\n",
    "X_test = pd.DataFrame(data=donnees_test,index=index_test, columns=[col])\n",
    "\n",
    "X_train.head()"
   ]
  },
  {
   "cell_type": "markdown",
   "metadata": {},
   "source": [
    "## Création du réseau de neuronne et entrainement"
   ]
  },
  {
   "cell_type": "code",
   "execution_count": 375,
   "metadata": {},
   "outputs": [],
   "source": [
    "my_init = initializers.glorot_uniform(seed=1)\n",
    "model = keras.Sequential()\n",
    "model.add(layers.Dense(12, input_dim=12, activation='relu', kernel_initializer=my_init))\n",
    "model.add(layers.Dense(8, activation='relu'))\n",
    "model.add(layers.Dense(1, activation='sigmoid'))\n",
    "\n",
    "model.compile(loss='binary_crossentropy',\n",
    "                optimizer='rmsprop',\n",
    "                metrics=['accuracy'])"
   ]
  },
  {
   "cell_type": "code",
   "execution_count": 376,
   "metadata": {},
   "outputs": [
    {
     "name": "stdout",
     "output_type": "stream",
     "text": [
      "Model: \"sequential_45\"\n",
      "_________________________________________________________________\n",
      "Layer (type)                 Output Shape              Param #   \n",
      "=================================================================\n",
      "dense_134 (Dense)            (None, 12)                156       \n",
      "_________________________________________________________________\n",
      "dense_135 (Dense)            (None, 8)                 104       \n",
      "_________________________________________________________________\n",
      "dense_136 (Dense)            (None, 1)                 9         \n",
      "=================================================================\n",
      "Total params: 269\n",
      "Trainable params: 269\n",
      "Non-trainable params: 0\n",
      "_________________________________________________________________\n"
     ]
    }
   ],
   "source": [
    "model.summary()"
   ]
  },
  {
   "cell_type": "code",
   "execution_count": 377,
   "metadata": {},
   "outputs": [
    {
     "name": "stdout",
     "output_type": "stream",
     "text": [
      "Epoch 1/50\n",
      "1600/1600 [==============================] - 5s 2ms/step - loss: 0.5501 - accuracy: 0.7323 - val_loss: 0.4365 - val_accuracy: 0.8130\n",
      "Epoch 2/50\n",
      "1600/1600 [==============================] - 2s 1ms/step - loss: 0.4276 - accuracy: 0.8189 - val_loss: 0.4253 - val_accuracy: 0.8260\n",
      "Epoch 3/50\n",
      "1600/1600 [==============================] - 2s 1ms/step - loss: 0.4096 - accuracy: 0.8347 - val_loss: 0.4134 - val_accuracy: 0.8295\n",
      "Epoch 4/50\n",
      "1600/1600 [==============================] - 2s 1ms/step - loss: 0.3872 - accuracy: 0.8438 - val_loss: 0.3888 - val_accuracy: 0.8405\n",
      "Epoch 5/50\n",
      "1600/1600 [==============================] - 2s 1ms/step - loss: 0.3806 - accuracy: 0.8483 - val_loss: 0.3731 - val_accuracy: 0.8510\n",
      "Epoch 6/50\n",
      "1600/1600 [==============================] - 2s 1ms/step - loss: 0.3475 - accuracy: 0.8603 - val_loss: 0.3562 - val_accuracy: 0.8585\n",
      "Epoch 7/50\n",
      "1600/1600 [==============================] - 2s 1ms/step - loss: 0.3437 - accuracy: 0.8604 - val_loss: 0.3523 - val_accuracy: 0.8590\n",
      "Epoch 8/50\n",
      "1600/1600 [==============================] - 2s 1ms/step - loss: 0.3419 - accuracy: 0.8649 - val_loss: 0.3518 - val_accuracy: 0.8585\n",
      "Epoch 9/50\n",
      "1600/1600 [==============================] - 2s 1ms/step - loss: 0.3512 - accuracy: 0.8563 - val_loss: 0.3499 - val_accuracy: 0.8605\n",
      "Epoch 10/50\n",
      "1600/1600 [==============================] - 2s 1ms/step - loss: 0.3451 - accuracy: 0.8574 - val_loss: 0.3510 - val_accuracy: 0.8600\n",
      "Epoch 11/50\n",
      "1600/1600 [==============================] - 2s 1ms/step - loss: 0.3427 - accuracy: 0.8602 - val_loss: 0.3498 - val_accuracy: 0.8615\n",
      "Epoch 12/50\n",
      "1600/1600 [==============================] - 2s 1ms/step - loss: 0.3478 - accuracy: 0.8602 - val_loss: 0.3493 - val_accuracy: 0.8600\n",
      "Epoch 13/50\n",
      "1600/1600 [==============================] - 2s 1ms/step - loss: 0.3466 - accuracy: 0.8553 - val_loss: 0.3515 - val_accuracy: 0.8595\n",
      "Epoch 14/50\n",
      "1600/1600 [==============================] - 2s 1ms/step - loss: 0.3508 - accuracy: 0.8527 - val_loss: 0.3518 - val_accuracy: 0.8580\n",
      "Epoch 15/50\n",
      "1600/1600 [==============================] - 2s 1ms/step - loss: 0.3574 - accuracy: 0.8547 - val_loss: 0.3504 - val_accuracy: 0.8620\n",
      "Epoch 16/50\n",
      "1600/1600 [==============================] - 2s 1ms/step - loss: 0.3398 - accuracy: 0.8630 - val_loss: 0.3540 - val_accuracy: 0.8615\n",
      "Epoch 17/50\n",
      "1600/1600 [==============================] - 2s 2ms/step - loss: 0.3453 - accuracy: 0.8562 - val_loss: 0.3546 - val_accuracy: 0.8605\n",
      "Epoch 18/50\n",
      "1600/1600 [==============================] - 3s 2ms/step - loss: 0.3556 - accuracy: 0.8494 - val_loss: 0.3497 - val_accuracy: 0.8640\n",
      "Epoch 19/50\n",
      "1600/1600 [==============================] - 2s 1ms/step - loss: 0.3482 - accuracy: 0.8590 - val_loss: 0.3562 - val_accuracy: 0.8630\n",
      "Epoch 20/50\n",
      "1600/1600 [==============================] - 2s 1ms/step - loss: 0.3389 - accuracy: 0.8608 - val_loss: 0.3510 - val_accuracy: 0.8615\n",
      "Epoch 21/50\n",
      "1600/1600 [==============================] - 2s 1ms/step - loss: 0.3315 - accuracy: 0.8648 - val_loss: 0.3506 - val_accuracy: 0.8645\n",
      "Epoch 22/50\n",
      "1600/1600 [==============================] - 2s 1ms/step - loss: 0.3433 - accuracy: 0.8635 - val_loss: 0.3546 - val_accuracy: 0.8600\n",
      "Epoch 23/50\n",
      "1600/1600 [==============================] - 2s 1ms/step - loss: 0.3280 - accuracy: 0.8647 - val_loss: 0.3529 - val_accuracy: 0.8625\n",
      "Epoch 24/50\n",
      "1600/1600 [==============================] - 2s 1ms/step - loss: 0.3420 - accuracy: 0.8598 - val_loss: 0.3497 - val_accuracy: 0.8675\n",
      "Epoch 25/50\n",
      "1600/1600 [==============================] - 2s 1ms/step - loss: 0.3309 - accuracy: 0.8656 - val_loss: 0.3543 - val_accuracy: 0.8635\n",
      "Epoch 26/50\n",
      "1600/1600 [==============================] - 2s 1ms/step - loss: 0.3383 - accuracy: 0.8641 - val_loss: 0.3515 - val_accuracy: 0.8660\n",
      "Epoch 27/50\n",
      "1600/1600 [==============================] - 2s 1ms/step - loss: 0.3466 - accuracy: 0.8584 - val_loss: 0.3501 - val_accuracy: 0.8640\n",
      "Epoch 28/50\n",
      "1600/1600 [==============================] - 2s 1ms/step - loss: 0.3439 - accuracy: 0.8608 - val_loss: 0.3544 - val_accuracy: 0.8650\n",
      "Epoch 29/50\n",
      "1600/1600 [==============================] - 2s 1ms/step - loss: 0.3348 - accuracy: 0.8630 - val_loss: 0.3528 - val_accuracy: 0.8655\n",
      "Epoch 30/50\n",
      "1600/1600 [==============================] - 2s 1ms/step - loss: 0.3320 - accuracy: 0.8682 - val_loss: 0.3521 - val_accuracy: 0.8695\n",
      "Epoch 31/50\n",
      "1600/1600 [==============================] - 2s 1ms/step - loss: 0.3434 - accuracy: 0.8616 - val_loss: 0.3503 - val_accuracy: 0.8680\n",
      "Epoch 32/50\n",
      "1600/1600 [==============================] - 2s 1ms/step - loss: 0.3410 - accuracy: 0.8634 - val_loss: 0.3498 - val_accuracy: 0.8655\n",
      "Epoch 33/50\n",
      "1600/1600 [==============================] - 2s 1ms/step - loss: 0.3454 - accuracy: 0.8636 - val_loss: 0.3556 - val_accuracy: 0.8645\n",
      "Epoch 34/50\n",
      "1600/1600 [==============================] - 2s 1ms/step - loss: 0.3440 - accuracy: 0.8623 - val_loss: 0.3518 - val_accuracy: 0.8675\n",
      "Epoch 35/50\n",
      "1600/1600 [==============================] - 2s 1ms/step - loss: 0.3480 - accuracy: 0.8669 - val_loss: 0.3589 - val_accuracy: 0.8630\n",
      "Epoch 36/50\n",
      "1600/1600 [==============================] - 2s 1ms/step - loss: 0.3372 - accuracy: 0.8704 - val_loss: 0.3534 - val_accuracy: 0.8665\n",
      "Epoch 37/50\n",
      "1600/1600 [==============================] - 2s 1ms/step - loss: 0.3470 - accuracy: 0.8635 - val_loss: 0.3605 - val_accuracy: 0.8605\n",
      "Epoch 38/50\n",
      "1600/1600 [==============================] - 2s 1ms/step - loss: 0.3481 - accuracy: 0.8603 - val_loss: 0.3523 - val_accuracy: 0.8655\n",
      "Epoch 39/50\n",
      "1600/1600 [==============================] - 3s 2ms/step - loss: 0.3447 - accuracy: 0.8623 - val_loss: 0.3510 - val_accuracy: 0.8650\n",
      "Epoch 40/50\n",
      "1600/1600 [==============================] - 2s 1ms/step - loss: 0.3300 - accuracy: 0.8720 - val_loss: 0.3506 - val_accuracy: 0.8690\n",
      "Epoch 41/50\n",
      "1600/1600 [==============================] - 2s 1ms/step - loss: 0.3324 - accuracy: 0.8673 - val_loss: 0.3467 - val_accuracy: 0.8665\n",
      "Epoch 42/50\n",
      "1600/1600 [==============================] - 2s 1ms/step - loss: 0.3444 - accuracy: 0.8681 - val_loss: 0.3531 - val_accuracy: 0.8670\n",
      "Epoch 43/50\n",
      "1600/1600 [==============================] - 2s 1ms/step - loss: 0.3467 - accuracy: 0.8592 - val_loss: 0.3481 - val_accuracy: 0.8700\n",
      "Epoch 44/50\n",
      "1600/1600 [==============================] - 2s 1ms/step - loss: 0.3491 - accuracy: 0.8605 - val_loss: 0.3483 - val_accuracy: 0.8675\n",
      "Epoch 45/50\n",
      "1600/1600 [==============================] - 3s 2ms/step - loss: 0.3414 - accuracy: 0.8656 - val_loss: 0.3493 - val_accuracy: 0.8615\n",
      "Epoch 46/50\n",
      "1600/1600 [==============================] - 2s 1ms/step - loss: 0.3338 - accuracy: 0.8649 - val_loss: 0.3483 - val_accuracy: 0.8655\n",
      "Epoch 47/50\n",
      "1600/1600 [==============================] - 2s 1ms/step - loss: 0.3425 - accuracy: 0.8666 - val_loss: 0.3488 - val_accuracy: 0.8665\n",
      "Epoch 48/50\n",
      "1600/1600 [==============================] - 2s 1ms/step - loss: 0.3401 - accuracy: 0.8666 - val_loss: 0.3489 - val_accuracy: 0.8660\n",
      "Epoch 49/50\n",
      "1600/1600 [==============================] - 2s 1ms/step - loss: 0.3412 - accuracy: 0.8647 - val_loss: 0.3500 - val_accuracy: 0.8700\n",
      "Epoch 50/50\n",
      "1600/1600 [==============================] - 2s 1ms/step - loss: 0.3461 - accuracy: 0.8609 - val_loss: 0.3569 - val_accuracy: 0.8665\n"
     ]
    },
    {
     "data": {
      "text/plain": [
       "<tensorflow.python.keras.callbacks.History at 0x1f2fb86aa00>"
      ]
     },
     "execution_count": 377,
     "metadata": {},
     "output_type": "execute_result"
    }
   ],
   "source": [
    "model.fit(X_train, y_train, validation_data=(X_test, y_test), epochs=50, batch_size=5)"
   ]
  },
  {
   "cell_type": "markdown",
   "metadata": {},
   "source": [
    "## Evaluation du modèle"
   ]
  },
  {
   "cell_type": "code",
   "execution_count": 378,
   "metadata": {
    "scrolled": true
   },
   "outputs": [
    {
     "name": "stdout",
     "output_type": "stream",
     "text": [
      "400/400 - 0s - loss: 0.3569 - accuracy: 0.8665\n",
      "Précision :  0.8665000200271606\n"
     ]
    }
   ],
   "source": [
    "test_loss, test_acc = model.evaluate(X_test, y_test, verbose=2, batch_size=5)\n",
    "\n",
    "print(\"Précision : \", test_acc)"
   ]
  },
  {
   "cell_type": "code",
   "execution_count": 379,
   "metadata": {},
   "outputs": [],
   "source": [
    "#predictions = model.predict_classes(X_test)\n",
    "\n",
    "predictions = (model.predict(X_test) > 0.5).astype(\"int32\")"
   ]
  },
  {
   "cell_type": "code",
   "execution_count": 380,
   "metadata": {},
   "outputs": [
    {
     "data": {
      "text/plain": [
       "array([0, 1])"
      ]
     },
     "execution_count": 380,
     "metadata": {},
     "output_type": "execute_result"
    }
   ],
   "source": [
    "np.unique(predictions)"
   ]
  },
  {
   "cell_type": "code",
   "execution_count": 381,
   "metadata": {},
   "outputs": [
    {
     "data": {
      "image/png": "[encoded data removed]",
      "text/plain": [
       "<Figure size 432x432 with 2 Axes>"
      ]
     },
     "metadata": {
      "needs_background": "light"
     },
     "output_type": "display_data"
    }
   ],
   "source": [
    "import seaborn as sns\n",
    "from sklearn import metrics\n",
    "\n",
    "cm = metrics.confusion_matrix(y_test, predictions)\n",
    "plt.figure(figsize=(6,6))\n",
    "sns.heatmap(cm, annot=True, fmt=\".0f\", linewidths=.5, square = True, cmap = 'mako')\n",
    "plt.ylabel('Actual label')\n",
    "plt.xlabel('Predicted label')\n",
    "plt.title(\"Matrice de confusion\", size = 20)\n",
    "plt.show()"
   ]
  },
  {
   "cell_type": "code",
   "execution_count": null,
   "metadata": {},
   "outputs": [],
   "source": []
  },
  {
   "cell_type": "code",
   "execution_count": null,
   "metadata": {},
   "outputs": [],
   "source": []
  }
 ],
 "metadata": {
  "kernelspec": {
   "display_name": "Python 3",
   "language": "python",
   "name": "python3"
  },
  "language_info": {
   "codemirror_mode": {
    "name": "ipython",
    "version": 3
   },
   "file_extension": ".py",
   "mimetype": "text/x-python",
   "name": "python",
   "nbconvert_exporter": "python",
   "pygments_lexer": "ipython3",
   "version": "3.8.3"
  }
 },
 "nbformat": 4,
 "nbformat_minor": 4
}
